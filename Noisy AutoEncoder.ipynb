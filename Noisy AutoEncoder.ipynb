{
 "cells": [
  {
   "cell_type": "code",
   "execution_count": 117,
   "metadata": {
    "collapsed": true
   },
   "outputs": [],
   "source": [
    "import numpy as np\n",
    "import h5py\n",
    "import matplotlib.pyplot as plt\n",
    "%matplotlib inline\n",
    "import torch\n",
    "from torch.autograd import Variable\n",
    "import torch.nn as nn\n",
    "import torch.optim as optim"
   ]
  },
  {
   "cell_type": "code",
   "execution_count": 56,
   "metadata": {},
   "outputs": [],
   "source": [
    "x_domain = np.linspace(0, 10, 250) \n",
    "training_values = []\n",
    "test_values = []\n",
    "noise_intensity = np.random.uniform(0,1)"
   ]
  },
  {
   "cell_type": "code",
   "execution_count": 145,
   "metadata": {},
   "outputs": [],
   "source": [
    "def random_phase_generator():\n",
    "    phi = np.ones(x_domain.shape)\n",
    "    phi = phi*np.random.uniform(0,180)\n",
    "    return phi"
   ]
  },
  {
   "cell_type": "code",
   "execution_count": 147,
   "metadata": {
    "collapsed": true
   },
   "outputs": [],
   "source": [
    "x_train = np.sin(x_domain + phase) + np.random.normal(size = 250, scale = 0.5*noise_intensity)\n",
    "x_train = np.reshape(x_train, (1,250))\n",
    "y_train = np.sin(x_domain + phase)\n",
    "y_train = np.reshape(y_train, (1,250))\n",
    "x_test = np.sin(x_domain + phase) + np.random.normal(size = 250, scale = 0.5*noise_intensity)\n",
    "x_test = np.reshape(x_test, (1,250))\n",
    "y_test = np.sin(x_domain + phase)\n",
    "y_test = np.reshape(y_test, (1,250))"
   ]
  },
  {
   "cell_type": "code",
   "execution_count": 149,
   "metadata": {},
   "outputs": [],
   "source": [
    "training_dataset_hdf5_path = 'hdf5_datasets/training_data.hdf5'\n",
    "test_dataset_hdf5_path = 'hdf5_datasets/test_data.hdf5'\n",
    "\n",
    "file_train = h5py.File(training_dataset_hdf5_path, \"w\")\n",
    "file_train.create_dataset('training_dataset_noisy', dtype = 'f', data=x_train)\n",
    "file_train.create_dataset('training_dataset', dtype = 'f', data=y_train)\n",
    "file_train.close()\n",
    "\n",
    "file_test = h5py.File(test_dataset_hdf5_path, \"w\")\n",
    "file_test.create_dataset('test_dataset_noisy', dtype = 'f', data=x_test)\n",
    "file_test.create_dataset('test_dataset', dtype = 'f', data=y_test)\n",
    "file_test.close()\n"
   ]
  },
  {
   "cell_type": "code",
   "execution_count": 171,
   "metadata": {},
   "outputs": [],
   "source": [
    "class Encoder(nn.Module):    \n",
    "    def __init__(self):\n",
    "        super(Encoder, self).__init__()\n",
    "        self.fc1 = nn.Linear(250, 500)\n",
    "        self.fc2 = nn.Linear(500, 1000)\n",
    "        self.activation = nn.Sigmoid()\n",
    "    \n",
    "    def forward(self, noised_input):\n",
    "        h = self.activation(self.fc1(noised_input))\n",
    "        z = self.fc2(h)\n",
    "        return z\n",
    "    \n",
    "\n",
    "class Decoder(nn.Module):\n",
    "    def __init__(self):\n",
    "        super(Decoder, self).__init__()\n",
    "        self.fc1 = nn.Linear(1000, 500)\n",
    "        self.fc2 = nn.Linear(500, 250)\n",
    "        self.activation = nn.Sigmoid()\n",
    "    \n",
    "    def forward(self, Encoded_Map):\n",
    "        h = self.activation(self.fc1(Encoded_Map))\n",
    "        output = self.fc2(h)\n",
    "        return output"
   ]
  },
  {
   "cell_type": "code",
   "execution_count": 172,
   "metadata": {},
   "outputs": [],
   "source": [
    "encoder = Encoder()\n",
    "decoder = Decoder()\n",
    "criterion = nn.MSELoss()\n",
    "optimizer = optim.Adam(encoder.parameters())\n",
    "optimizer = optim.Adam(decoder.parameters())"
   ]
  },
  {
   "cell_type": "code",
   "execution_count": 173,
   "metadata": {},
   "outputs": [
    {
     "name": "stdout",
     "output_type": "stream",
     "text": [
      "100 done\n",
      "200 done\n",
      "300 done\n",
      "400 done\n",
      "500 done\n",
      "600 done\n",
      "700 done\n",
      "1 : loss = 64.03253181511536\n",
      "100 done\n",
      "200 done\n",
      "300 done\n",
      "400 done\n",
      "500 done\n",
      "600 done\n",
      "700 done\n",
      "2 : loss = 4.953969080383104\n",
      "100 done\n",
      "200 done\n",
      "300 done\n",
      "400 done\n",
      "500 done\n",
      "600 done\n",
      "700 done\n",
      "3 : loss = 4.779188843524025\n",
      "100 done\n",
      "200 done\n",
      "300 done\n",
      "400 done\n",
      "500 done\n",
      "600 done\n",
      "700 done\n",
      "4 : loss = 3.9803998960196623\n",
      "100 done\n",
      "200 done\n",
      "300 done\n",
      "400 done\n",
      "500 done\n",
      "600 done\n",
      "700 done\n",
      "5 : loss = 3.997370652083191\n",
      "100 done\n",
      "200 done\n",
      "300 done\n",
      "400 done\n",
      "500 done\n",
      "600 done\n",
      "700 done\n",
      "6 : loss = 3.7274437235791993\n",
      "100 done\n",
      "200 done\n",
      "300 done\n",
      "400 done\n",
      "500 done\n",
      "600 done\n",
      "700 done\n",
      "7 : loss = 3.879640624360036\n",
      "100 done\n",
      "200 done\n",
      "300 done\n",
      "400 done\n",
      "500 done\n",
      "600 done\n",
      "700 done\n",
      "8 : loss = 4.037428433690366\n",
      "100 done\n",
      "200 done\n",
      "300 done\n",
      "400 done\n",
      "500 done\n",
      "600 done\n",
      "700 done\n",
      "9 : loss = 3.1943735104323423\n",
      "100 done\n",
      "200 done\n",
      "300 done\n",
      "400 done\n",
      "500 done\n",
      "600 done\n",
      "700 done\n",
      "10 : loss = 3.3597988577785145\n"
     ]
    }
   ],
   "source": [
    "total_epochs = 10\n",
    "epoch_loss_data = [] \n",
    "for epoch in range(total_epochs):\n",
    "    running_loss = 0\n",
    "    if running_loss == 0:\n",
    "        for i in range(750):\n",
    "            phase = random_phase_generator()\n",
    "            x_train = np.sin(x_domain + phase) + np.random.normal(size = 250, scale = 0.5*noise_intensity)\n",
    "            x_train = np.reshape(x_train, (1,250))\n",
    "            y_train = np.sin(x_domain + phase)\n",
    "            y_train = np.reshape(y_train, (1,250))\n",
    "            \n",
    "            inputs, target = Variable((torch.FloatTensor(x_train)), requires_grad = True), Variable(torch.FloatTensor(y_train))\n",
    "            \n",
    "            optimizer.zero_grad()\n",
    "\n",
    "            output = encoder(inputs)\n",
    "            output = decoder(output)\n",
    "            loss = criterion(output, target = target)\n",
    "            loss.backward()\n",
    "            optimizer.step()\n",
    "            running_loss += loss.data[0]\n",
    "            \n",
    "            if i%100 == 99:\n",
    "                print(i + 1, 'done')\n",
    "    epoch_loss_data.append(running_loss)\n",
    "    print(epoch + 1,': loss =', running_loss)"
   ]
  },
  {
   "cell_type": "code",
   "execution_count": 174,
   "metadata": {},
   "outputs": [
    {
     "data": {
      "text/plain": [
       "[<matplotlib.lines.Line2D at 0x7fb626a07550>]"
      ]
     },
     "execution_count": 174,
     "metadata": {},
     "output_type": "execute_result"
    },
    {
     "data": {
      "image/png": "[encoded data removed]",
      "text/plain": [
       "<matplotlib.figure.Figure at 0x7fb626b94828>"
      ]
     },
     "metadata": {},
     "output_type": "display_data"
    }
   ],
   "source": [
    "#Lets show the difference between the original noised input and output\n",
    "x_train = x_train.reshape((250,))\n",
    "plt.plot(x_domain, x_train)"
   ]
  },
  {
   "cell_type": "code",
   "execution_count": 175,
   "metadata": {},
   "outputs": [
    {
     "data": {
      "text/plain": [
       "[<matplotlib.lines.Line2D at 0x7fb6284b0748>]"
      ]
     },
     "execution_count": 175,
     "metadata": {},
     "output_type": "execute_result"
    },
    {
     "data": {
      "image/png": "[encoded data removed]",
      "text/plain": [
       "<matplotlib.figure.Figure at 0x7fb626a15780>"
      ]
     },
     "metadata": {},
     "output_type": "display_data"
    }
   ],
   "source": [
    "output = output.data[0]\n",
    "output = np.array(output)\n",
    "output = np.reshape(output, (250,))\n",
    "plt.plot(x_domain, output)"
   ]
  },
  {
   "cell_type": "code",
   "execution_count": 176,
   "metadata": {},
   "outputs": [
    {
     "name": "stdout",
     "output_type": "stream",
     "text": [
      "0.006889852229505777\n"
     ]
    }
   ],
   "source": [
    "running_test_loss = 0.0\n",
    "for i in range(250):\n",
    "    phase = random_phase_generator()\n",
    "    x_test = np.sin(x_domain + phase) + np.random.normal(size = 250, scale = 0.5*noise_intensity)\n",
    "    x_test = np.reshape(x_test, (1,250))\n",
    "    y_test = np.sin(x_domain + phase)\n",
    "    y_test = np.reshape(y_test, (1,250))\n",
    "    \n",
    "    input_test, target = Variable(torch.FloatTensor(x_test), requires_grad = True), Variable(torch.FloatTensor(y_test)) \n",
    "    \n",
    "    output_test = encoder(input_test)\n",
    "    output_test = decoder(output_test)\n",
    "    loss = criterion(output_test, target)\n",
    "    running_test_loss = loss.data[0]\n",
    "print(running_test_loss)"
   ]
  },
  {
   "cell_type": "code",
   "execution_count": null,
   "metadata": {
    "collapsed": true
   },
   "outputs": [],
   "source": []
  },
  {
   "cell_type": "code",
   "execution_count": null,
   "metadata": {
    "collapsed": true
   },
   "outputs": [],
   "source": []
  },
  {
   "cell_type": "code",
   "execution_count": null,
   "metadata": {
    "collapsed": true
   },
   "outputs": [],
   "source": []
  },
  {
   "cell_type": "code",
   "execution_count": null,
   "metadata": {
    "collapsed": true
   },
   "outputs": [],
   "source": []
  },
  {
   "cell_type": "code",
   "execution_count": null,
   "metadata": {
    "collapsed": true
   },
   "outputs": [],
   "source": []
  },
  {
   "cell_type": "code",
   "execution_count": null,
   "metadata": {},
   "outputs": [],
   "source": []
  },
  {
   "cell_type": "code",
   "execution_count": 156,
   "metadata": {},
   "outputs": [],
   "source": [
    "#How to access hdf5 files\n",
    "#train_file = h5py.File('trainsine.hdf5','r')\n",
    "#x_train=train_file['dataset_2'][:]\n",
    "#y_train=train_file['dataset_1'][:]\n",
    "#train_file.close()\n",
    "\n",
    "#test_file = h5py.File('testsine.hdf5','r')\n",
    "#x_test=test_file['dataset_2'][:]\n",
    "#y_test=test_file['dataset_1'][:]\n",
    "#test_file.close()"
   ]
  },
  {
   "cell_type": "code",
   "execution_count": null,
   "metadata": {
    "collapsed": true
   },
   "outputs": [],
   "source": []
  }
 ],
 "metadata": {
  "kernelspec": {
   "display_name": "Python 3",
   "language": "python",
   "name": "python3"
  },
  "language_info": {
   "codemirror_mode": {
    "name": "ipython",
    "version": 3
   },
   "file_extension": ".py",
   "mimetype": "text/x-python",
   "name": "python",
   "nbconvert_exporter": "python",
   "pygments_lexer": "ipython3",
   "version": "3.6.1"
  }
 },
 "nbformat": 4,
 "nbformat_minor": 2
}
